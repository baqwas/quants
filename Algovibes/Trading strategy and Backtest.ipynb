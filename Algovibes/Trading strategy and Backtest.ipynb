{
 "cells": [
  {
   "cell_type": "markdown",
   "id": "914f7315",
   "metadata": {},
   "source": [
    "# __[Trading strategy and Backtest](https://www.youtube.com/watch?v=5W_Lpz1ZuTI&t=893s)__\n",
    "\n",
    "## Strategy\n",
    "\n",
    "- Universe: S&P 500\n",
    "- Check performance for the last 12 months\n",
    "- Skip the last month\n",
    "- Buy winners, Short losers\n",
    "- Hold portfolio for 1 month\n",
    "\n",
    "### FAMA\n",
    "\n",
    "We use six value-weight portfolios formed on size and prior (2-12) returns to construct Mom. The portfolios, which are formed monthly, are the intersections of 2 portfolios formed on size (market equity, ME) and 3 portfolios formed on prior (2-12) return. The monthly size breakpoint is the median NYSE market equity. The monthly prior (2-12) return breakpoints are the 30th and 70th NYSE percentiles.\n",
    "\n",
    "Mom is the average return on the two high prior return portfolios minus the average return on the two low prior return portfolios,\n",
    "\n",
    "$$\n",
    "MOM =  {(Small High + Big High) / 2} - {(Small Low + Big Low) / 2}\n",
    "$$\n",
    "\n",
    "The six portfolios used to construct Mom each month include NYSE, AMEX, and NASDAQ stocks with prior return data. To be included in a portfolio for month t (formed at the end of month t-1),\n",
    "\n",
    "- a stock must have a price for the end of month t-13 and a good return for t-2\n",
    "\n",
    "In addition, \n",
    "\n",
    "- any missing returns from t-12 to t-3 must be -99.0, CRSP's code for a missing price\n",
    "- Each included stock also must have ME for the end of month t-1\n",
    "\n",
    "\n",
    "## Workflow\n",
    "\n",
    "- Retrieve prices for all stocks in ^GSPC\n",
    "- Measure performance\n",
    "- Filter winners and losers into deciles\n",
    " - *winners* - highest decile\n",
    " - *losers* - lowest decile\n",
    "- Backtest over last 10 years\n",
    "- Compare with S&P 500 performance\n",
    "\n",
    "## References\n",
    "\n",
    "__[Algovibes](https://www.youtube.com/c/Algovibes)__\n",
    "__[List of S&P 500 companies](https://en.wikipedia.org/wiki/List_of_S%26P_500_companies)__\n",
    "__[Detail for Monthly Momentum Factor (Mom)](https://mba.tuck.dartmouth.edu/pages/faculty/ken.french/Data_Library/det_mom_factor.html)__\n",
    "\n"
   ]
  },
  {
   "cell_type": "code",
   "execution_count": 1,
   "id": "6147096b",
   "metadata": {},
   "outputs": [],
   "source": [
    "# essential library packages\n",
    "import datetime as dt\n",
    "import numpy as np\n",
    "import pandas as pd\n",
    "from pandas.tseries.offsets import MonthEnd\n",
    "import yfinance as yf"
   ]
  },
  {
   "cell_type": "code",
   "execution_count": 48,
   "id": "16a2d67e",
   "metadata": {},
   "outputs": [
    {
     "name": "stdout",
     "output_type": "stream",
     "text": [
      "[*********************100%***********************]  503 of 503 completed\n",
      "\n",
      "1 Failed download:\n",
      "- CEG: Data doesn't exist for startDate = 1262239200, endDate = 1640930400\n"
     ]
    }
   ],
   "source": [
    "SnP500     = pd.read_html(\"https://en.wikipedia.org/wiki/List_of_S%26P_500_companies\")[0] # 1st table\n",
    "symbols    = SnP500.Symbol.to_list() # Symbol is 1st non-indexed column in table\n",
    "tickers    = []\n",
    "for i in symbols:\n",
    "    tickers.append(i.replace('.', '-')) # Yahoo Finance uses '-' when '.' is present in original ticker symbol\n",
    "date_start = dt.date(2009, 12, 31)\n",
    "date_end   = dt.date(2021, 12, 31)\n",
    "history    = yf.download(tickers, start=date_start, end=date_end)\n",
    "prices     = history[\"Adj Close\"]\n",
    "prices.index = pd.to_datetime(prices.index)"
   ]
  },
  {
   "cell_type": "code",
   "execution_count": 58,
   "id": "ca5fa19e",
   "metadata": {},
   "outputs": [],
   "source": [
    "monthly_returns = prices.pct_change().resample('M').agg(lambda x: (x + 1).prod() - 1)\n",
    "past_11_months  = (monthly_returns + 1).rolling(11).apply(np.prod) - 1"
   ]
  },
  {
   "cell_type": "code",
   "execution_count": 59,
   "id": "f2221b1f",
   "metadata": {},
   "outputs": [],
   "source": [
    "formation = dt.datetime(2010, 12, 31)\n",
    "end_measurement   = formation - MonthEnd(1)\n",
    "returns_12_months = (past_11_months.loc[end_measurement]).reset_index()\n",
    "returns_12_months[\"decile\"] = pd.qcut(returns_12_months.iloc[:,1], 10, labels=False, duplicates=\"drop\")"
   ]
  },
  {
   "cell_type": "code",
   "execution_count": 75,
   "id": "88e9f3d8",
   "metadata": {},
   "outputs": [],
   "source": [
    "def momentum(formation):\n",
    "    end_measurement = formation - MonthEnd(1)\n",
    "    returns_12_months = (past_11_months.loc[end_measurement]).reset_index()\n",
    "    returns_12_months[\"decile\"] = pd.qcut(returns_12_months.iloc[:,1], 10, labels=False, duplicates=\"drop\")\n",
    "    winners = returns_12_months[returns_12_months.decile == 9]\n",
    "    losers  = returns_12_months[returns_12_months.decile == 0]\n",
    "    winners_returns = monthly_returns.loc[formation + MonthEnd(1), monthly_returns.columns.isin(winners[\"index\"])]\n",
    "    losers_returns  = monthly_returns.loc[formation + MonthEnd(1), monthly_returns.columns.isin(losers[\"index\"])]\n",
    "    momentum_profit = winners_returns.mean() - losers_returns.mean()\n",
    "    return momentum_profit"
   ]
  },
  {
   "cell_type": "code",
   "execution_count": 76,
   "id": "e68f15e9",
   "metadata": {},
   "outputs": [
    {
     "data": {
      "text/plain": [
       "-0.039694055296395275"
      ]
     },
     "execution_count": 76,
     "metadata": {},
     "output_type": "execute_result"
    }
   ],
   "source": [
    "momentum(formation)"
   ]
  },
  {
   "cell_type": "code",
   "execution_count": 80,
   "id": "4e377afb",
   "metadata": {},
   "outputs": [
    {
     "name": "stdout",
     "output_type": "stream",
     "text": [
      "[*********************100%***********************]  1 of 1 completed\n"
     ]
    }
   ],
   "source": [
    "profits, dates = [], []\n",
    "for i in range(12 * 10):\n",
    "    profits.append(momentum(formation + MonthEnd(i)))\n",
    "    dates.append(formation + MonthEnd(i))\n",
    "\n",
    "SP = yf.download(\"^GSPC\", start=dates[0], end=dates[-1])\n",
    "SP = SP[\"Adj Close\"]\n",
    "SP_monthly = SP.pct_change().resample('M').agg(lambda x: (x + 1).prod() - 1)"
   ]
  },
  {
   "cell_type": "code",
   "execution_count": 82,
   "id": "43363670",
   "metadata": {},
   "outputs": [
    {
     "data": {
      "text/plain": [
       "0.39166666666666666"
      ]
     },
     "execution_count": 82,
     "metadata": {},
     "output_type": "execute_result"
    }
   ],
   "source": [
    "frame = pd.DataFrame(profits)\n",
    "frame[\"S_P500\"] = SP_monthly.values\n",
    "frame[\"excess\"] = frame.iloc[:, 0] - frame.iloc[:, 1]\n",
    "frame[\"outperformed\"] = [\"Yes\" if i > 0 else \"No\" for i in frame.excess]\n",
    "frame[frame.outperformed == \"Yes\"].shape[0] / frame.shape[0]"
   ]
  },
  {
   "cell_type": "code",
   "execution_count": null,
   "id": "5894fffb",
   "metadata": {},
   "outputs": [],
   "source": []
  }
 ],
 "metadata": {
  "kernelspec": {
   "display_name": "Python 3 (ipykernel)",
   "language": "python",
   "name": "python3"
  },
  "language_info": {
   "codemirror_mode": {
    "name": "ipython",
    "version": 3
   },
   "file_extension": ".py",
   "mimetype": "text/x-python",
   "name": "python",
   "nbconvert_exporter": "python",
   "pygments_lexer": "ipython3",
   "version": "3.10.4"
  }
 },
 "nbformat": 4,
 "nbformat_minor": 5
}
