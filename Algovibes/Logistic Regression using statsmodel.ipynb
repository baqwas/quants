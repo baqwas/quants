{
 "cells": [
  {
   "cell_type": "markdown",
   "id": "2589496b",
   "metadata": {},
   "source": [
    "# __[Logistic Regression](https://www.youtube.com/watch?v=X9jjyh0p7x8)__\n",
    "\n",
    "Using S&P 500 data\n",
    "\n",
    "Original converted from R in [An Introduction to Statistical Learning](https://www.statlearning.com/) by Algovibes\n",
    "\n",
    "$$\n",
    "log(Y) = \\sum_{j=1}^{p}X_j\\beta_j+\\epsilon\n",
    "$$\n",
    "\n",
    "The model predicts *binary* output:\n",
    "\n",
    "- Mail spam possbility: true or false\n",
    "- Stock market: up or down\n",
    "\n",
    "Daily returns of S&P 500 for a time period from 2001 to 2005\n",
    "Today column is the relative price change for the day\n",
    "Direction column is whether the change is up or down\n",
    "Lags are prior daily returns\n",
    "- Lag1 prior day\n",
    "- Lag2 prior prior day\n",
    "- Lag3 prior prior prior day\n",
    "etc.\n",
    "Volume of the prior day in billions\n",
    "\n",
    "## Confusion Matrix\n",
    "\n",
    "                   Predicted No                   Predicted Yes\n",
    "\n",
    "Actual No          True Negative (TN)                 False Positive (FP)\n",
    "\n",
    "Actual Yes         False Negative (FN)                 True Positive (TP)\n",
    "\n",
    "Actual No = TN + FP\n",
    "\n",
    "Actual Yes = FN + TP\n",
    "\n",
    "Predicted No = TN + FN\n",
    "\n",
    "Predicted Yes = FP + TP\n",
    "\n",
    "total = Predicted No + Predicted Yes\n",
    "\n",
    "total = Actual No    + Actual Yes\n",
    "\n",
    "### Accuracy\n",
    "\n",
    "Accuracy = (TP + TN) / total\n",
    "\n",
    "### Misclassification Rate\n",
    "\n",
    "Misclassification Rate = (FP + FN) / total\n",
    "\n",
    "### True Positive Rate\n",
    "\n",
    "True Positive Rate = TP / (Actual Yes)\n",
    "\n",
    "### False Positive Rate\n",
    "\n",
    "False Positive Rate = FP / (Actual No)\n",
    "\n",
    "### True Negative Rate\n",
    "\n",
    "True Negative Rate = TN / (Actual No)\n",
    "\n",
    "### Precision\n",
    "\n",
    "Precision = TP / (Predicted Yes)\n",
    "\n",
    "### Prevalence\n",
    "\n",
    "Prevalence = (Actual Yes) / total\n",
    "\n",
    "\n",
    "# Parametric Findings\n",
    "\n",
    "## Original model\n",
    "\n",
    "Using data from 2001-01-01 to 2005-12-31 (code below has been changed)\n",
    "\n",
    "0.5714285714285714: Lag 1, Lag 2\n",
    "\n",
    "0.4603174603174603: Lag 1, Lag 2,                      Volume \n",
    "\n",
    "**0.5833333333333334: Lag 1, Lag 2, Lag 3**\n",
    "\n",
    "0.4801587301587302: Lag 1, Lag 2, Lag 3,               Volume\n",
    "\n",
    "0.5793650793650794: Lag 1, Lag 2, Lag 3, Lag 4\n",
    "\n",
    "0.4801587301587302: Lag 1, Lag 2, Lag 3, Lag 4,        Volume\n",
    "\n",
    "0.5753968253968254: Lag 1, Lag 2, Lag 3, Lag 4, Lag 5\n",
    "\n",
    "0.4722222222222222: Lag 1, Lag 2, Lag 3, Lag 4, Lag 5, Volume\n",
    "\n",
    "# References\n",
    "\n",
    "__[statsmodels](https://www.statsmodels.org/stable/index.html)__"
   ]
  },
  {
   "cell_type": "code",
   "execution_count": 91,
   "id": "2c3490e9",
   "metadata": {},
   "outputs": [],
   "source": [
    "import pandas as pd\n",
    "import statsmodels.api as sm\n",
    "import yfinance as yf"
   ]
  },
  {
   "cell_type": "code",
   "execution_count": 92,
   "id": "2e979293",
   "metadata": {},
   "outputs": [
    {
     "name": "stdout",
     "output_type": "stream",
     "text": [
      "[*********************100%***********************]  1 of 1 completed\n"
     ]
    }
   ],
   "source": [
    "ticker = \"^GSPC\"\n",
    "year_start = \"2001-01-01\"\n",
    "year_end   = \"2020-12-31\"\n",
    "year_split = 2018\n",
    "data = yf.download(ticker, start=year_start, end=year_end)"
   ]
  },
  {
   "cell_type": "code",
   "execution_count": 93,
   "id": "231b993f",
   "metadata": {},
   "outputs": [],
   "source": [
    "df = data[\"Adj Close\"].pct_change() * 100\n",
    "df = df.rename(\"Today\")\n",
    "df = df.reset_index()"
   ]
  },
  {
   "cell_type": "code",
   "execution_count": 94,
   "id": "2835baac",
   "metadata": {},
   "outputs": [],
   "source": [
    "for i in range(1, 6):\n",
    "    df[\"Lag \" + str(i)] = df[\"Today\"].shift(i)\n",
    "df[\"Volume\"] = data.Volume.shift(1).values / 100000000\n",
    "df = df.dropna()"
   ]
  },
  {
   "cell_type": "code",
   "execution_count": 95,
   "id": "e9f4a21f",
   "metadata": {},
   "outputs": [],
   "source": [
    "df[\"Direction\"] = [1 if i > 0 else 0 for i in df[\"Today\"]]\n",
    "df = sm.add_constant(df)"
   ]
  },
  {
   "cell_type": "code",
   "execution_count": 96,
   "id": "9ab59d69",
   "metadata": {},
   "outputs": [],
   "source": [
    "X = df[[\"const\", \"Lag 1\", \"Lag 2\", \"Lag 3\", \"Lag 4\", \"Lag 5\", \"Volume\"]]\n",
    "y = df.Direction"
   ]
  },
  {
   "cell_type": "code",
   "execution_count": 97,
   "id": "002fefe4",
   "metadata": {},
   "outputs": [
    {
     "name": "stdout",
     "output_type": "stream",
     "text": [
      "Optimization terminated successfully.\n",
      "         Current function value: 0.687507\n",
      "         Iterations 4\n"
     ]
    }
   ],
   "source": [
    "model = sm.Logit(y, X)\n",
    "result = model.fit()\n",
    "result.summary()\n",
    "prediction = result.predict(X)"
   ]
  },
  {
   "cell_type": "code",
   "execution_count": 98,
   "id": "5334dfd6",
   "metadata": {},
   "outputs": [],
   "source": [
    "def confusion_matrix(act, pred):\n",
    "    predtrans = [\"Up\" if i > 0.5 else \"Down\" for i in pred]\n",
    "    actuals = [\"Up\" if i > 0 else \"Down\" for i in act]\n",
    "    confusion_matrix = pd.crosstab(pd.Series(actuals), pd.Series(predtrans), rownames=[\"Actual\"], colnames=[\"Predicted\"])\n",
    "    return confusion_matrix"
   ]
  },
  {
   "cell_type": "code",
   "execution_count": 99,
   "id": "b3a1f4d1",
   "metadata": {},
   "outputs": [
    {
     "data": {
      "text/html": [
       "<div>\n",
       "<style scoped>\n",
       "    .dataframe tbody tr th:only-of-type {\n",
       "        vertical-align: middle;\n",
       "    }\n",
       "\n",
       "    .dataframe tbody tr th {\n",
       "        vertical-align: top;\n",
       "    }\n",
       "\n",
       "    .dataframe thead th {\n",
       "        text-align: right;\n",
       "    }\n",
       "</style>\n",
       "<table border=\"1\" class=\"dataframe\">\n",
       "  <thead>\n",
       "    <tr style=\"text-align: right;\">\n",
       "      <th>Predicted</th>\n",
       "      <th>Down</th>\n",
       "      <th>Up</th>\n",
       "    </tr>\n",
       "    <tr>\n",
       "      <th>Actual</th>\n",
       "      <th></th>\n",
       "      <th></th>\n",
       "    </tr>\n",
       "  </thead>\n",
       "  <tbody>\n",
       "    <tr>\n",
       "      <th>Down</th>\n",
       "      <td>189</td>\n",
       "      <td>2121</td>\n",
       "    </tr>\n",
       "    <tr>\n",
       "      <th>Up</th>\n",
       "      <td>160</td>\n",
       "      <td>2555</td>\n",
       "    </tr>\n",
       "  </tbody>\n",
       "</table>\n",
       "</div>"
      ],
      "text/plain": [
       "Predicted  Down    Up\n",
       "Actual               \n",
       "Down        189  2121\n",
       "Up          160  2555"
      ]
     },
     "execution_count": 99,
     "metadata": {},
     "output_type": "execute_result"
    }
   ],
   "source": [
    "confusion_matrix(y, prediction)"
   ]
  },
  {
   "cell_type": "code",
   "execution_count": 100,
   "id": "95f0c179",
   "metadata": {},
   "outputs": [],
   "source": [
    "def lr_model(y_train, x_train, x_test, y_test):\n",
    "    model = sm.Logit(y_train, x_train)\n",
    "    result = model.fit()\n",
    "    prediction = result.predict(x_test)\n",
    "    cm = confusion_matrix(y_test, prediction)\n",
    "    accuracy = (cm[\"Down\"][\"Down\"] + cm[\"Up\"][\"Up\"]) / len(x_test)\n",
    "    return accuracy"
   ]
  },
  {
   "cell_type": "code",
   "execution_count": 101,
   "id": "5ce7e6c7",
   "metadata": {},
   "outputs": [
    {
     "name": "stdout",
     "output_type": "stream",
     "text": [
      "Optimization terminated successfully.\n",
      "         Current function value: 0.688911\n",
      "         Iterations 4\n",
      "0.5418326693227091\n"
     ]
    }
   ],
   "source": [
    "x_train = df[df.Date.dt.year < year_split][[\"const\", \"Lag 1\", \"Lag 2\"]]\n",
    "y_train = df[df.Date.dt.year < year_split][\"Direction\"]\n",
    "x_test = df[df.Date.dt.year == year_split][[\"const\", \"Lag 1\", \"Lag 2\"]]\n",
    "y_test = df[df.Date.dt.year == year_split][\"Direction\"]\n",
    "print(lr_model(y_train, x_train, x_test, y_test))\n"
   ]
  },
  {
   "cell_type": "code",
   "execution_count": 102,
   "id": "b2134d73",
   "metadata": {},
   "outputs": [
    {
     "name": "stdout",
     "output_type": "stream",
     "text": [
      "Optimization terminated successfully.\n",
      "         Current function value: 0.688767\n",
      "         Iterations 4\n",
      "0.5418326693227091\n"
     ]
    }
   ],
   "source": [
    "x_train = df[df.Date.dt.year < year_split][[\"const\", \"Lag 1\", \"Lag 2\", \"Volume\"]]\n",
    "y_train = df[df.Date.dt.year < year_split][\"Direction\"]\n",
    "x_test = df[df.Date.dt.year == year_split][[\"const\", \"Lag 1\", \"Lag 2\", \"Volume\"]]\n",
    "y_test = df[df.Date.dt.year == year_split][\"Direction\"]\n",
    "print(lr_model(y_train, x_train, x_test, y_test))"
   ]
  },
  {
   "cell_type": "code",
   "execution_count": 103,
   "id": "81b7b9d9",
   "metadata": {},
   "outputs": [
    {
     "name": "stdout",
     "output_type": "stream",
     "text": [
      "Optimization terminated successfully.\n",
      "         Current function value: 0.688855\n",
      "         Iterations 4\n",
      "0.549800796812749\n"
     ]
    }
   ],
   "source": [
    "x_train = df[df.Date.dt.year < year_split][[\"const\", \"Lag 1\", \"Lag 2\", \"Lag 3\"]]\n",
    "y_train = df[df.Date.dt.year < year_split][\"Direction\"]\n",
    "x_test = df[df.Date.dt.year == year_split][[\"const\", \"Lag 1\", \"Lag 2\", \"Lag 3\"]]\n",
    "y_test = df[df.Date.dt.year == year_split][\"Direction\"]\n",
    "print(lr_model(y_train, x_train, x_test, y_test))"
   ]
  },
  {
   "cell_type": "code",
   "execution_count": 104,
   "id": "e552b9bb",
   "metadata": {},
   "outputs": [
    {
     "name": "stdout",
     "output_type": "stream",
     "text": [
      "Optimization terminated successfully.\n",
      "         Current function value: 0.688704\n",
      "         Iterations 4\n",
      "0.5418326693227091\n"
     ]
    }
   ],
   "source": [
    "x_train = df[df.Date.dt.year < year_split][[\"const\", \"Lag 1\", \"Lag 2\", \"Lag 3\", \"Volume\"]]\n",
    "y_train = df[df.Date.dt.year < year_split][\"Direction\"]\n",
    "x_test = df[df.Date.dt.year == year_split][[\"const\", \"Lag 1\", \"Lag 2\", \"Lag 3\", \"Volume\"]]\n",
    "y_test = df[df.Date.dt.year == year_split][\"Direction\"]\n",
    "print(lr_model(y_train, x_train, x_test, y_test))"
   ]
  },
  {
   "cell_type": "code",
   "execution_count": 105,
   "id": "23bc9cb9",
   "metadata": {},
   "outputs": [
    {
     "name": "stdout",
     "output_type": "stream",
     "text": [
      "Optimization terminated successfully.\n",
      "         Current function value: 0.688832\n",
      "         Iterations 4\n",
      "0.5418326693227091\n"
     ]
    }
   ],
   "source": [
    "x_train = df[df.Date.dt.year < year_split][[\"const\", \"Lag 1\", \"Lag 2\", \"Lag 3\", \"Lag 4\"]]\n",
    "y_train = df[df.Date.dt.year < year_split][\"Direction\"]\n",
    "x_test = df[df.Date.dt.year == year_split][[\"const\", \"Lag 1\", \"Lag 2\", \"Lag 3\", \"Lag 4\"]]\n",
    "y_test = df[df.Date.dt.year == year_split][\"Direction\"]\n",
    "print(lr_model(y_train, x_train, x_test, y_test))"
   ]
  },
  {
   "cell_type": "code",
   "execution_count": 106,
   "id": "5b5024d9",
   "metadata": {},
   "outputs": [
    {
     "name": "stdout",
     "output_type": "stream",
     "text": [
      "Optimization terminated successfully.\n",
      "         Current function value: 0.688685\n",
      "         Iterations 4\n",
      "0.5378486055776892\n"
     ]
    }
   ],
   "source": [
    "x_train = df[df.Date.dt.year < year_split][[\"const\", \"Lag 1\", \"Lag 2\", \"Lag 3\", \"Lag 4\", \"Volume\"]]\n",
    "y_train = df[df.Date.dt.year < year_split][\"Direction\"]\n",
    "x_test = df[df.Date.dt.year == year_split][[\"const\", \"Lag 1\", \"Lag 2\", \"Lag 3\", \"Lag 4\", \"Volume\"]]\n",
    "y_test = df[df.Date.dt.year == year_split][\"Direction\"]\n",
    "print(lr_model(y_train, x_train, x_test, y_test))"
   ]
  },
  {
   "cell_type": "code",
   "execution_count": 107,
   "id": "40291618",
   "metadata": {},
   "outputs": [
    {
     "name": "stdout",
     "output_type": "stream",
     "text": [
      "Optimization terminated successfully.\n",
      "         Current function value: 0.688684\n",
      "         Iterations 4\n",
      "0.5378486055776892\n"
     ]
    }
   ],
   "source": [
    "x_train = df[df.Date.dt.year < year_split][[\"const\", \"Lag 1\", \"Lag 2\", \"Lag 3\", \"Lag 4\", \"Lag 5\"]]\n",
    "y_train = df[df.Date.dt.year < year_split][\"Direction\"]\n",
    "x_test = df[df.Date.dt.year == year_split][[\"const\", \"Lag 1\", \"Lag 2\", \"Lag 3\", \"Lag 4\", \"Lag 5\"]]\n",
    "y_test = df[df.Date.dt.year == year_split][\"Direction\"]\n",
    "print(lr_model(y_train, x_train, x_test, y_test))"
   ]
  },
  {
   "cell_type": "code",
   "execution_count": 108,
   "id": "63ffbad5",
   "metadata": {},
   "outputs": [
    {
     "name": "stdout",
     "output_type": "stream",
     "text": [
      "Optimization terminated successfully.\n",
      "         Current function value: 0.688548\n",
      "         Iterations 4\n",
      "0.5298804780876494\n"
     ]
    }
   ],
   "source": [
    "x_train = df[df.Date.dt.year < year_split][[\"const\", \"Lag 1\", \"Lag 2\", \"Lag 3\", \"Lag 4\", \"Lag 5\", \"Volume\"]]\n",
    "y_train = df[df.Date.dt.year < year_split][\"Direction\"]\n",
    "x_test = df[df.Date.dt.year == year_split][[\"const\", \"Lag 1\", \"Lag 2\", \"Lag 3\", \"Lag 4\", \"Lag 5\", \"Volume\"]]\n",
    "y_test = df[df.Date.dt.year == year_split][\"Direction\"]\n",
    "print(lr_model(y_train, x_train, x_test, y_test))"
   ]
  }
 ],
 "metadata": {
  "kernelspec": {
   "display_name": "Python 3 (ipykernel)",
   "language": "python",
   "name": "python3"
  },
  "language_info": {
   "codemirror_mode": {
    "name": "ipython",
    "version": 3
   },
   "file_extension": ".py",
   "mimetype": "text/x-python",
   "name": "python",
   "nbconvert_exporter": "python",
   "pygments_lexer": "ipython3",
   "version": "3.10.4"
  }
 },
 "nbformat": 4,
 "nbformat_minor": 5
}
